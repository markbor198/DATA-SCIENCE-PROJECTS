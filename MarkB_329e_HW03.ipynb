{
 "cells": [
  {
   "cell_type": "markdown",
   "metadata": {},
   "source": [
    "# Homework 3\n",
    "\n",
    "## Mark Borjas (mab7886)\n",
    "## Normal and t distributions\n",
    "## t-test\n"
   ]
  },
  {
   "cell_type": "markdown",
   "metadata": {},
   "source": [
    "An experiment was conducted to determine the effect of children participating in a given meal preparation on calorie intake for that meal. Data are recorded below. \n",
    "\n",
    "Save the data to a format that can be read into python. Read the data in for analysis. Data is provided in two separted CSV files. \n",
    "\n",
    "* Use python to calculate the quantities and generate the visual summaries requested below. You will lose points if you are not utilizing python.\n",
    "\n",
    "* You can use scipy libary or other libraries to do your tests or you can implement them from scratch in python \n",
    "\n"
   ]
  },
  {
   "cell_type": "code",
   "execution_count": 64,
   "metadata": {},
   "outputs": [],
   "source": [
    "# Standard Headers\n",
    "# You are welcome to add additional headers here if you wish\n",
    "import pandas as pd\n",
    "import numpy as np\n",
    "import matplotlib.pyplot as plt\n",
    "from scipy import stats\n",
    "\n",
    "# Enable inline mode for matplotlib so that Jupyter displays graphs\n",
    "%matplotlib inline"
   ]
  },
  {
   "cell_type": "markdown",
   "metadata": {},
   "source": [
    "# Question - 1\n",
    "Summarize the data by whether children participated in the meal preparation or not. Use an appropriately labelled table to show the results. Also include a graphical presentation that shows the distribution of calories for participants vs. non-participants. Describe the shape of each distribution and comment on the similarity (or lack thereof) between the distributions in each population. **(2 points)**\n"
   ]
  },
  {
   "cell_type": "code",
   "execution_count": 44,
   "metadata": {},
   "outputs": [
    {
     "name": "stdout",
     "output_type": "stream",
     "text": [
      " \n",
      "Nonparticipants calorie intake\n"
     ]
    },
    {
     "data": {
      "text/html": [
       "<div>\n",
       "<style scoped>\n",
       "    .dataframe tbody tr th:only-of-type {\n",
       "        vertical-align: middle;\n",
       "    }\n",
       "\n",
       "    .dataframe tbody tr th {\n",
       "        vertical-align: top;\n",
       "    }\n",
       "\n",
       "    .dataframe thead th {\n",
       "        text-align: right;\n",
       "    }\n",
       "</style>\n",
       "<table border=\"1\" class=\"dataframe\">\n",
       "  <thead>\n",
       "    <tr style=\"text-align: right;\">\n",
       "      <th></th>\n",
       "      <th>nonparticipants</th>\n",
       "    </tr>\n",
       "  </thead>\n",
       "  <tbody>\n",
       "    <tr>\n",
       "      <th>count</th>\n",
       "      <td>22.000000</td>\n",
       "    </tr>\n",
       "    <tr>\n",
       "      <th>mean</th>\n",
       "      <td>374.071818</td>\n",
       "    </tr>\n",
       "    <tr>\n",
       "      <th>std</th>\n",
       "      <td>133.139285</td>\n",
       "    </tr>\n",
       "    <tr>\n",
       "      <th>min</th>\n",
       "      <td>139.690000</td>\n",
       "    </tr>\n",
       "    <tr>\n",
       "      <th>25%</th>\n",
       "      <td>296.392500</td>\n",
       "    </tr>\n",
       "    <tr>\n",
       "      <th>50%</th>\n",
       "      <td>374.740000</td>\n",
       "    </tr>\n",
       "    <tr>\n",
       "      <th>75%</th>\n",
       "      <td>445.557500</td>\n",
       "    </tr>\n",
       "    <tr>\n",
       "      <th>max</th>\n",
       "      <td>688.770000</td>\n",
       "    </tr>\n",
       "  </tbody>\n",
       "</table>\n",
       "</div>"
      ],
      "text/plain": [
       "       nonparticipants\n",
       "count        22.000000\n",
       "mean        374.071818\n",
       "std         133.139285\n",
       "min         139.690000\n",
       "25%         296.392500\n",
       "50%         374.740000\n",
       "75%         445.557500\n",
       "max         688.770000"
      ]
     },
     "execution_count": 44,
     "metadata": {},
     "output_type": "execute_result"
    }
   ],
   "source": [
    "part = pd.read_csv('participants.csv')\n",
    "non_part = pd.read_csv('nonparticipants.csv')\n",
    "non_sum = non_part.describe()\n",
    "print(\" \")\n",
    "print(\"Nonparticipants calorie intake\")\n",
    "non_sum"
   ]
  },
  {
   "cell_type": "code",
   "execution_count": 45,
   "metadata": {},
   "outputs": [
    {
     "name": "stdout",
     "output_type": "stream",
     "text": [
      "Participants calorie intake\n"
     ]
    },
    {
     "data": {
      "text/html": [
       "<div>\n",
       "<style scoped>\n",
       "    .dataframe tbody tr th:only-of-type {\n",
       "        vertical-align: middle;\n",
       "    }\n",
       "\n",
       "    .dataframe tbody tr th {\n",
       "        vertical-align: top;\n",
       "    }\n",
       "\n",
       "    .dataframe thead th {\n",
       "        text-align: right;\n",
       "    }\n",
       "</style>\n",
       "<table border=\"1\" class=\"dataframe\">\n",
       "  <thead>\n",
       "    <tr style=\"text-align: right;\">\n",
       "      <th></th>\n",
       "      <th>participants</th>\n",
       "    </tr>\n",
       "  </thead>\n",
       "  <tbody>\n",
       "    <tr>\n",
       "      <th>count</th>\n",
       "      <td>25.000000</td>\n",
       "    </tr>\n",
       "    <tr>\n",
       "      <th>mean</th>\n",
       "      <td>410.079600</td>\n",
       "    </tr>\n",
       "    <tr>\n",
       "      <th>std</th>\n",
       "      <td>121.513786</td>\n",
       "    </tr>\n",
       "    <tr>\n",
       "      <th>min</th>\n",
       "      <td>210.990000</td>\n",
       "    </tr>\n",
       "    <tr>\n",
       "      <th>25%</th>\n",
       "      <td>298.380000</td>\n",
       "    </tr>\n",
       "    <tr>\n",
       "      <th>50%</th>\n",
       "      <td>424.940000</td>\n",
       "    </tr>\n",
       "    <tr>\n",
       "      <th>75%</th>\n",
       "      <td>456.300000</td>\n",
       "    </tr>\n",
       "    <tr>\n",
       "      <th>max</th>\n",
       "      <td>635.210000</td>\n",
       "    </tr>\n",
       "  </tbody>\n",
       "</table>\n",
       "</div>"
      ],
      "text/plain": [
       "       participants\n",
       "count     25.000000\n",
       "mean     410.079600\n",
       "std      121.513786\n",
       "min      210.990000\n",
       "25%      298.380000\n",
       "50%      424.940000\n",
       "75%      456.300000\n",
       "max      635.210000"
      ]
     },
     "execution_count": 45,
     "metadata": {},
     "output_type": "execute_result"
    }
   ],
   "source": [
    "\n",
    "part_sum = part.describe()\n",
    "\n",
    "print(\"Participants calorie intake\")\n",
    "part_sum\n"
   ]
  },
  {
   "cell_type": "code",
   "execution_count": 143,
   "metadata": {},
   "outputs": [
    {
     "name": "stdout",
     "output_type": "stream",
     "text": [
      "Both grahps sort of have similar shapes but are definitely not symtrical. The non participants graph looks likes it has more data within the 300-500 calories range, but this might not be true as the participants also has a lot of data within that range. Additionally, the participants graph doesnt seem to have data in the less than (<) 200 calorie range while the other has data < 200. \n",
      "\n",
      "Distribution of calories for participants vs. non-participants\n"
     ]
    },
    {
     "data": {
      "image/png": "[encoded data removed]",
      "text/plain": [
       "<Figure size 432x288 with 2 Axes>"
      ]
     },
     "metadata": {
      "needs_background": "light"
     },
     "output_type": "display_data"
    }
   ],
   "source": [
    "both = pd.concat([part, non_part], axis = 1)\n",
    "\n",
    "\n",
    "hist = both.hist(bins=20)\n",
    "\n",
    "plt.xlabel(\"Calories\")\n",
    "\n",
    "plt.ylabel(\"Frequency\")\n",
    "print(\"Both grahps sort of have similar shapes but are definitely not symtrical. The non participants graph looks likes it has more data within the 300-500 calories range, but this might not be true as the participants also has a lot of data within that range. Additionally, the participants graph doesnt seem to have data in the less than (<) 200 calorie range while the other has data < 200. \")\n",
    "print()\n",
    "print(\"Distribution of calories for participants vs. non-participants\")"
   ]
  },
  {
   "cell_type": "markdown",
   "metadata": {},
   "source": [
    "# Question - 2 \n",
    "\n",
    "Does the mean calorie consumption for those who participated in the meal preparation differ from **425**? Formally test at the $\\alpha = 0.05$ level using the 5 steps outlined in the module. **(6 points)**\n"
   ]
  },
  {
   "cell_type": "code",
   "execution_count": 115,
   "metadata": {},
   "outputs": [
    {
     "name": "stdout",
     "output_type": "stream",
     "text": [
      "1. H0∶μ=425(mean calorie consumption for those who participated in the meal preparation does not differ from 425)\n",
      "\n",
      "H1∶μ≠425(mean calorie consumption for those who participated in the meal preparation differs from 425) α=0.05\n",
      "\n",
      "2. Using two-sided t test since n is small\n",
      "Degrees of freedom = 25-1\n",
      "Critical value = 1.7108820799094275\n",
      "\n",
      "test stat = [-0.61393857]\n",
      "p value = [0.54503195]\n",
      "3.  Decision Rule:  Reject H0 if p−value ≤ α Otherwise, do not reject  H0\n",
      "4.[0.54503195] > α=0.05 \n",
      "5.we fail to reject the null hypothesis\n",
      "H0∶μ=425\n",
      "5.We do not have significant evidence at theα=0.05 level to conclude that  participants mean calorie value is not equal to 425\n"
     ]
    }
   ],
   "source": [
    "print(\"1. H0∶μ=425(mean calorie consumption for those who participated in the meal preparation does not differ from 425)\")\n",
    "print()\n",
    "print(\"H1∶μ≠425(mean calorie consumption for those who participated in the meal preparation differs from 425) α=0.05\")\n",
    "print()\n",
    "print(\"2. Using two-sided t test since n is small\")\n",
    "print(\"Degrees of freedom = 25-1\")\n",
    "critical = stats.t.ppf(q=1-.05,df=24)\n",
    "print(\"Critical value =\", critical)\n",
    "result = stats.ttest_1samp(part, 425, alternative = 'two-sided')\n",
    "print()\n",
    "#print(result)\n",
    "print(\"test stat =\", result.statistic)\n",
    "print(\"p value =\", result.pvalue)\n",
    "print(\"3.  Decision Rule:  Reject H0 if p−value ≤ α Otherwise, do not reject  H0\")\n",
    "print(\"4.\" + str(result.pvalue) + \" > α=0.05 \")\n",
    "if result.pvalue < 0.05:    # alpha value \n",
    "   print(\"5.we are rejecting null hypothesis\")\n",
    "   print(\"H1∶μ≠425\")\n",
    "else:\n",
    "  print(\"5.we fail to reject the null hypothesis\")\n",
    "  print(\"H0∶μ=425\")\n",
    "  print(\"We do not have significant evidence at theα=0.05 level to conclude that  participants mean calorie value is not equal to 425\")"
   ]
  },
  {
   "cell_type": "markdown",
   "metadata": {},
   "source": [
    "# Question -3 \n",
    "Calculate a **90%** confidence interval for the mean calorie intake for participants in the meal preparation. Interpret the confidence interval. **(6 points)**"
   ]
  },
  {
   "cell_type": "code",
   "execution_count": 116,
   "metadata": {},
   "outputs": [
    {
     "name": "stdout",
     "output_type": "stream",
     "text": [
      "90% Confidence interval\n",
      "([368.50044816],[451.65875184])\n",
      "The 90% confidence interval contained the null value of 425 which fails to reject the null hypothesis, and the two-sided significance test at the α=0.05 level did not reject the null hypothes that μ=425, the actual mean may indeed be 425 .\n",
      "We do not have significant evidence at theα=0.05 level to conclude that  participants mean calorie value is not equal to 425\n"
     ]
    }
   ],
   "source": [
    "print(\"90% Confidence interval\")\n",
    "result = stats.t.interval(0.90, len(part)-1, loc=np.mean(part), scale=stats.sem(part))\n",
    "print(\"(\"+str(result[0])+\",\"+ str(result[1])+\")\")\n",
    "print(\"The 90% confidence interval contained the null value of 425 which fails to reject the null hypothesis, and the two-sided significance test at the α=0.05 level did not reject the null hypothes that μ=425, the actual mean may indeed be 425 .\")\n",
    "print(\"We do not have significant evidence at theα=0.05 level to conclude that  participants mean calorie value is not equal to 425\")"
   ]
  },
  {
   "cell_type": "code",
   "execution_count": null,
   "metadata": {},
   "outputs": [],
   "source": []
  },
  {
   "cell_type": "markdown",
   "metadata": {},
   "source": [
    "# Question 4 \n",
    "Formally test whether or not participants consumed \n",
    "more calories than non-participants at the $\\alpha = 0.05$ level using the 5 steps procedure for hypothesis tests. **(6 points )**"
   ]
  },
  {
   "cell_type": "code",
   "execution_count": 114,
   "metadata": {},
   "outputs": [
    {
     "name": "stdout",
     "output_type": "stream",
     "text": [
      "1. H0∶μparticipants=μnonparticipants (participants consumed the same amount of calories than non_participants)\n",
      "\n",
      "H1∶μparticipants>μnonpartipants(calorie consumption for those who participated is greater than nonparticipants at the sig level α=0.05\n",
      "\n",
      "2. Using two-sample two-sided t test since both n is small\n",
      "\n",
      "3.  Decision Rule:  Reject H0 if p−value ≤ α Otherwise, do not reject  H0\n",
      "test stat = [0.96935044]\n",
      "p value = [0.16877591]\n",
      "4.[0.16877591] > α=0.05 \n",
      "we fail to reject the null hypothesis\n",
      "H0∶μparticipants=μnonparticipants\n",
      "5.We do not have significant evidence at theα=0.05 level to conclude that  participants a greater amount of calories than non_participants\n"
     ]
    }
   ],
   "source": [
    "print(\"1. H0∶μparticipants=μnonparticipants (participants consumed the same amount of calories than non_participants)\")\n",
    "print()\n",
    "print(\"H1∶μparticipants>μnonpartipants(calorie consumption for those who participated is greater than nonparticipants at the sig level α=0.05\")\n",
    "print()\n",
    "print(\"2. Using two-sample two-sided t test since both n is small\")\n",
    "#print(\"Degrees of freedom = 22-1\")\n",
    "#critical = stats.t.ppf(q=1-.05,df=21)\n",
    "#print(\"Critical value =\", critical)\n",
    "#result = stats.ttest_ind(part, non_part, alternative=\"greater\")\n",
    "print()\n",
    "#print(result)\n",
    "print(\"3.  Decision Rule:  Reject H0 if p−value ≤ α Otherwise, do not reject  H0\")\n",
    "print(\"test stat =\", result.statistic)\n",
    "print(\"p value =\", result.pvalue)\n",
    "\n",
    "print(\"4.\" + str(result.pvalue) + \" > α=0.05 \")\n",
    "if result.pvalue < 0.05:    # alpha value \n",
    "   print(\"we are rejecting null hypothesis\")\n",
    "   print(\"H1∶μpartipants>μnonpartipants\")\n",
    "else:\n",
    "  print(\"we fail to reject the null hypothesis\")\n",
    "  print(\"H0∶μparticipants=μnonparticipants\")\n",
    "  print(\"5.We do not have significant evidence at theα=0.05 level to conclude that  participants a greater amount of calories than non_participants\")"
   ]
  },
  {
   "cell_type": "code",
   "execution_count": null,
   "metadata": {},
   "outputs": [],
   "source": []
  }
 ],
 "metadata": {
  "kernelspec": {
   "display_name": "Python 3",
   "language": "python",
   "name": "python3"
  },
  "language_info": {
   "codemirror_mode": {
    "name": "ipython",
    "version": 3
   },
   "file_extension": ".py",
   "mimetype": "text/x-python",
   "name": "python",
   "nbconvert_exporter": "python",
   "pygments_lexer": "ipython3",
   "version": "3.8.8"
  }
 },
 "nbformat": 4,
 "nbformat_minor": 4
}
