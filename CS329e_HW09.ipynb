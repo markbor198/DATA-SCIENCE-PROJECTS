{
 "cells": [
  {
   "cell_type": "markdown",
   "metadata": {},
   "source": [
    "## C S 329E HW 9\n",
    "\n",
    "# Crossvalidation and hyperparameter selection\n",
    "\n",
    "## Mark Borjas (and your partner's name if you are working in a pair)\n",
    "\n",
    "For this week's homework we are going to explore the cross validation testing methodology and applying that to get error estimates on the two algorithms we've used so far:\n",
    "  - Linear Regression\n",
    "  - Decision Tree classification\n",
    "  "
   ]
  },
  {
   "cell_type": "code",
   "execution_count": 1,
   "metadata": {},
   "outputs": [],
   "source": [
    "# import the libraries! If you want to add things here for visualization, please do, \n",
    "# but only use sklearn when prompted\n",
    "import pandas as pd\n",
    "import numpy as np\n",
    "from sklearn import tree \n",
    "from sklearn.datasets import load_iris\n",
    "from sklearn.datasets import load_diabetes"
   ]
  },
  {
   "cell_type": "markdown",
   "metadata": {},
   "source": [
    "# Part 1 - Calculate Generalized Error on Linear Regression with k-fold Cross Validation"
   ]
  },
  {
   "cell_type": "markdown",
   "metadata": {},
   "source": [
    "## Q1.1 Load in the diabetes data set as a pandas dataframe and series.  \n",
    "Documentation is [here](https://scikit-learn.org/stable/modules/generated/sklearn.datasets.load_diabetes.html).  Name your features dataframe (the independent variables) `df_X` and your target (the dependent variable) series `s_y`"
   ]
  },
  {
   "cell_type": "code",
   "execution_count": 2,
   "metadata": {},
   "outputs": [],
   "source": [
    "df = load_diabetes()\n",
    "df_X = df['data']\n",
    "s_y = df['target']"
   ]
  },
  {
   "cell_type": "markdown",
   "metadata": {},
   "source": [
    "## Q1.2 Define a function that creates a linear least squares regression model \n",
    "This function should take in two parameters, `df_X`, and `s_y` and return the least squares regression model, $\\hat{\\beta}$ (using the notation from the ESLII book chapter 3 and HW2).  You can not use any libraries outside of pandas and numpy. "
   ]
  },
  {
   "cell_type": "code",
   "execution_count": 3,
   "metadata": {},
   "outputs": [],
   "source": [
    "def get_linear_regression_model( df_X, s_y ):\n",
    "    [beta_hat, residuals, rank, s] = np.linalg.lstsq(df_X, s_y, rcond=-1)\n",
    "    return beta_hat"
   ]
  },
  {
   "cell_type": "code",
   "execution_count": 4,
   "metadata": {},
   "outputs": [
    {
     "data": {
      "text/plain": [
       "array([ 1.77890808,  0.74032569, -1.3506416 ,  0.14535984,  4.18818425])"
      ]
     },
     "execution_count": 4,
     "metadata": {},
     "output_type": "execute_result"
    }
   ],
   "source": [
    "np.random.seed(23)\n",
    "test_X = pd.DataFrame(np.random.random((34, 4)))\n",
    "one_array = np.ones((len(test_X), 1))\n",
    "test_X = np.hstack((test_X, one_array))\n",
    "beta_hat = get_linear_regression_model(test_X, pd.Series(np.random.random(34) * 10.0))\n",
    "beta_hat"
   ]
  },
  {
   "cell_type": "markdown",
   "metadata": {},
   "source": [
    "## Q1.3 Define a function that partitions the dataframe and series data into dictionaries\n",
    "This function should take in three parameters, `df_X`, `s_y`, and `k`, and returns a tuple of two dictionaries.\n",
    "In both dictionaries the key is the `k` value (an integer from one to `k` inclusive).\n",
    "The first dictionary will have the dataframe of the training data that contains approximately $\\frac{1}{k}$ of the data (variation due to randomness is acceptable).\n",
    "The second dictionary will have the series of the target data that contains approximately $\\frac{1}{k}$ of the data (variation due to randomness is acceptable). Please note the targets _must match_ the same rows as the dataframe at this index, e.g, the length of the kth partition is the same for the dataframe and series.\n",
    "\n",
    "Call that function with $k=5$ and create the dictionaries `dict_k_df_X` and `dict_k_s_y`. Print out the number of rows in each fold.  Check that the number of data points in each partition totals the number of data points in the entire dataset. "
   ]
  },
  {
   "cell_type": "code",
   "execution_count": 5,
   "metadata": {},
   "outputs": [],
   "source": [
    "def partition_data( df_X, s_y, k ):\n",
    "    dict_k_df_X = {}\n",
    "    dict_k_s_y = {}\n",
    "    cur_idx = 0\n",
    "    \n",
    "    for i in range(1, k):\n",
    "        partition_size = int(np.round(len(df_X) / k + (np.random.normal() * len(df_X) /(k * 20))))\n",
    "        dict_k_df_X[i] = df_X[cur_idx:cur_idx + partition_size]\n",
    "        dict_k_s_y[i] = s_y[cur_idx:cur_idx + partition_size]\n",
    "        cur_idx += partition_size\n",
    "        one_array = np.ones((len(dict_k_df_X[i]), 1))\n",
    "        dict_k_df_X[i] = np.hstack((dict_k_df_X[i], one_array))\n",
    "    \n",
    "    dict_k_df_X[k] = df_X[cur_idx:len(df_X)]\n",
    "    dict_k_s_y[k] = s_y[cur_idx:len(df_X)]\n",
    "    \n",
    "    one_array = np.ones((len(dict_k_df_X[k]), 1))\n",
    "    dict_k_df_X[k] = np.hstack((dict_k_df_X[k], one_array))\n",
    "    \n",
    "    return (dict_k_df_X, dict_k_s_y)"
   ]
  },
  {
   "cell_type": "code",
   "execution_count": 6,
   "metadata": {},
   "outputs": [],
   "source": [
    "(dict_k_df_X, dict_k_s_y) = partition_data( df_X, s_y, 5 )"
   ]
  },
  {
   "cell_type": "code",
   "execution_count": 7,
   "metadata": {},
   "outputs": [
    {
     "name": "stdout",
     "output_type": "stream",
     "text": [
      "Fold 1 length of dataframe is 91 and length of series is 91\n",
      "Fold 2 length of dataframe is 78 and length of series is 78\n",
      "Fold 3 length of dataframe is 91 and length of series is 91\n",
      "Fold 4 length of dataframe is 85 and length of series is 85\n",
      "Fold 5 length of dataframe is 97 and length of series is 97\n",
      "The sum of the number of elements in each fold is 442 and there are 442 rows in the original df\n"
     ]
    }
   ],
   "source": [
    "sum_folds = 0\n",
    "\n",
    "for key, values in dict_k_df_X.items():\n",
    "    sum_folds += len(values)\n",
    "    print(\"Fold \" + str(key) + \" length of dataframe is \" + str(len(values)) + \" and length of series is \" + str(len(dict_k_s_y[key])))\n",
    "    \n",
    "print(\"The sum of the number of elements in each fold is \" + str(sum_folds) + \" and there are \" + str(len(df_X)) + \" rows in the original df\")"
   ]
  },
  {
   "cell_type": "markdown",
   "metadata": {},
   "source": [
    "## Q1.4 Define a function that calculates a regression metric\n",
    "This function should accept two series of equal length $n$ numpy arrays, `s_y`, and `s_y_hat`. The metric it should calculate is the mean absolute error, $MAE = \\sum\\limits_{i=1}^n\\frac{|{s\\_y_i - {s\\_y\\_hat}_i}|}{n}$ \n",
    "\n",
    "Test your function by using the vectors:\n",
    "```\n",
    "x = np.array([1,2,3])\n",
    "y = np.array([2,2,3])\n",
    "```\n"
   ]
  },
  {
   "cell_type": "code",
   "execution_count": 8,
   "metadata": {},
   "outputs": [],
   "source": [
    "def get_mae( s_y, s_y_hat):\n",
    "    mae = 0 # mean absolute error\n",
    "    for i in range(len(s_y)):\n",
    "        mae += abs(s_y[i] - s_y_hat[i]) / len(s_y)\n",
    "    return mae"
   ]
  },
  {
   "cell_type": "code",
   "execution_count": 9,
   "metadata": {},
   "outputs": [
    {
     "data": {
      "text/plain": [
       "0.3333333333333333"
      ]
     },
     "execution_count": 9,
     "metadata": {},
     "output_type": "execute_result"
    }
   ],
   "source": [
    "# Test it \n",
    "x = np.array([1,2,3])\n",
    "y = np.array([2,2,3])\n",
    "get_mae(x,y)"
   ]
  },
  {
   "cell_type": "markdown",
   "metadata": {},
   "source": [
    "## Q1.5 Calculate the $MAE$ for each fold\n",
    "For each fold in your dictionaries, calculate the $MAE$.  Use the partition number key as the test set, and all other partitions as the train set. \n",
    "\n",
    "Print the min, max, and mean $MAE$ of your 5 folds. "
   ]
  },
  {
   "cell_type": "code",
   "execution_count": 12,
   "metadata": {},
   "outputs": [],
   "source": [
    "mae = np.array([])\n",
    "for i in dict_k_df_X.keys():\n",
    "    first_found = False\n",
    "    # Build linear regression model from training set\n",
    "    # i is the testing set\n",
    "    \n",
    "    # for loop iterates to build the training set. \n",
    "    # if i = j, skips it because it's the testing set\n",
    "\n",
    "    for j in dict_k_df_X.keys():\n",
    "        if (i != j):\n",
    "            if (first_found == False):\n",
    "                training_df_X = dict_k_df_X[j]\n",
    "                training_s_y = dict_k_s_y[j]\n",
    "                first_found = True\n",
    "            else:\n",
    "                training_df_X = np.append(training_df_X, dict_k_df_X[j], axis=0)\n",
    "                training_s_y = np.append(training_s_y, dict_k_s_y[j], axis=0)\n",
    "            \n",
    "    beta_hat = np.reshape(get_linear_regression_model(training_df_X, training_s_y), (11, 1))\n",
    "    s_y_hat = np.matmul(dict_k_df_X[i], beta_hat)\n",
    "    mae = np.append(mae, get_mae(dict_k_s_y[i], s_y_hat))"
   ]
  },
  {
   "cell_type": "code",
   "execution_count": 13,
   "metadata": {},
   "outputs": [
    {
     "name": "stdout",
     "output_type": "stream",
     "text": [
      "The min MAE is 40.49, the max MAE is 47.57, and the mean MAE is 44.62\n"
     ]
    }
   ],
   "source": [
    "print(\"The min MAE is {:.2f}, the max MAE is {:.2f}, and the mean MAE is {:.2f}\".format(mae.min(),mae.max(),mae.mean()))\n"
   ]
  },
  {
   "cell_type": "markdown",
   "metadata": {},
   "source": [
    "# Part 2 - Find the best hyperparameter to use in a Decision Tree "
   ]
  },
  {
   "cell_type": "markdown",
   "metadata": {},
   "source": [
    "## Q2.1 Load the iris data in as a pandas dataframe and a series\n",
    "Documentation is [here](https://scikit-learn.org/stable/modules/generated/sklearn.datasets.load_iris.html). Name your features dataframe (the independent variables) `df_X` and your classification target (the dependent variable) series `s_y`"
   ]
  },
  {
   "cell_type": "code",
   "execution_count": 14,
   "metadata": {},
   "outputs": [],
   "source": [
    "df = load_iris()\n",
    "df\n",
    "df_X = df['data']\n",
    "s_y = df['target']\n",
    "\n",
    "# shuffle\n",
    "newOrder = np.arange(len(s_y))\n",
    "np.random.shuffle(newOrder)\n",
    "\n",
    "d = df_X.copy()\n",
    "s= s_y.copy()\n",
    "\n",
    "##################### create new array with newOrder \n",
    "\n",
    "for i in range(len(newOrder)):\n",
    "    df_X[i] = d[newOrder[i]]\n",
    "    s_y[i] = s[newOrder[i]]"
   ]
  },
  {
   "cell_type": "markdown",
   "metadata": {},
   "source": [
    "## Q2.2 Partition `df_X` and `s_y` into $5$ partitions of roughly equal size\n",
    "Make 2 dictionaries, with the key of each dictionary the fold number.  The value of the dictionary `dict_k_df_X` is the $k^{th}$ partition of the data, and the value of the dictionary `dict_k_s_y` is the corresponding $k^{th}$ target classification.  Print out the number of rows in each fold.  Check that the number of data points in each partition totals the number of data points in the entire dataset. "
   ]
  },
  {
   "cell_type": "code",
   "execution_count": 15,
   "metadata": {},
   "outputs": [],
   "source": [
    "(dict_k_df_X, dict_k_s_y) = partition_data(df_X, s_y, 5)\n"
   ]
  },
  {
   "cell_type": "markdown",
   "metadata": {},
   "source": [
    "## Q2.3 Define a function that calculates accuracy\n",
    "The function should accept two series and compare each element for equality.  The accuracy is the number of equal elements divided by the total number of elements.\n",
    "\n",
    "Test your accuracy function by calling it with the `s_y` loaded from the iris data set and an array of the same length containing all $1$ values. "
   ]
  },
  {
   "cell_type": "code",
   "execution_count": 16,
   "metadata": {},
   "outputs": [],
   "source": [
    "def get_acc( s_1, s_2 ):\n",
    "    if len(s_1) != len(s_2):\n",
    "        return \"Lengths do not equal each other\"\n",
    "    n = len(s_1)\n",
    "    c = 0.0;\n",
    "    for i in range(n):\n",
    "        if s_1[i] == s_2[i]:\n",
    "            c += 1\n",
    "    return c/n;"
   ]
  },
  {
   "cell_type": "code",
   "execution_count": 17,
   "metadata": {},
   "outputs": [
    {
     "data": {
      "text/plain": [
       "0.3333333333333333"
      ]
     },
     "execution_count": 17,
     "metadata": {},
     "output_type": "execute_result"
    }
   ],
   "source": [
    "get_acc(s_y,np.ones(len(s_y)))"
   ]
  },
  {
   "cell_type": "markdown",
   "metadata": {},
   "source": [
    "## Q2.4 Using Nested Cross validation, find the best hyperparameter\n",
    "Use the [Decision Tree Classifier](https://scikit-learn.org/stable/modules/tree.html#classification) class to build a decision tree inside of a 5-fold cross validation loop.  The partitions you already created in 2.2 will be the outer loop.  In the inside loop you should use 4-fold cross validation (so you don't have to partition _again_) to find the best value for `min_impurity_decrease`.  Use the Gini Index as your impurity measure. \n",
    "    Calculate the mean accuracy across the 4 folds of your inner loop for all the candidate `min_impurity_decrease` values, and print the value.  Use the array `np.array([0.1,0.25,0.3,0.4])` as the candidates for the best hyperparameter. If there is a tie (two `min_impurity_decrease` values give the same highest accuracy), choose the lowest `min_impurity_decrease` value. \n",
    "\n",
    "For each inner loop, select the best `min_impurity_decrease` and train the outer fold training data on using that value. \n",
    "\n",
    "For each inner loop, your output should look something like this:\n",
    "```\n",
    "Testing 0.10 min impurity decrease\n",
    "\tAverage accuracy over 4 folds is 0.95\n",
    "Testing 0.25 min impurity decrease\n",
    "\tAverage accuracy over 4 folds is 0.86\n",
    "Testing 0.30 min impurity decrease\n",
    "\tAverage accuracy over 4 folds is 0.63\n",
    "Testing 0.40 min impurity decrease\n",
    "\tAverage accuracy over 4 folds is 0.27\n",
    "\n",
    "Best min impurity decrease is 0.1\n",
    "\n",
    "```"
   ]
  },
  {
   "cell_type": "code",
   "execution_count": 18,
   "metadata": {},
   "outputs": [
    {
     "name": "stdout",
     "output_type": "stream",
     "text": [
      "Execution #1\n",
      "Testing 0.1 min impurity decrease\n",
      "\tAverage accuracy over 4 folds is 0.91\n",
      "Testing 0.25 min impurity decrease\n",
      "\tAverage accuracy over 4 folds is 0.7\n",
      "Testing 0.3 min impurity decrease\n",
      "\tAverage accuracy over 4 folds is 0.61\n",
      "Testing 0.4 min impurity decrease\n",
      "\tAverage accuracy over 4 folds is 0.29\n",
      "Best min impurity 0.1\n",
      "\n",
      "Outer accuracy 96.88 %\n",
      "\n",
      "Execution #2\n",
      "Testing 0.1 min impurity decrease\n",
      "\tAverage accuracy over 4 folds is 0.88\n",
      "Testing 0.25 min impurity decrease\n",
      "\tAverage accuracy over 4 folds is 0.67\n",
      "Testing 0.3 min impurity decrease\n",
      "\tAverage accuracy over 4 folds is 0.59\n",
      "Testing 0.4 min impurity decrease\n",
      "\tAverage accuracy over 4 folds is 0.26\n",
      "Best min impurity 0.1\n",
      "\n",
      "Outer accuracy 90.32 %\n",
      "\n",
      "Execution #3\n",
      "Testing 0.1 min impurity decrease\n",
      "\tAverage accuracy over 4 folds is 0.93\n",
      "Testing 0.25 min impurity decrease\n",
      "\tAverage accuracy over 4 folds is 0.71\n",
      "Testing 0.3 min impurity decrease\n",
      "\tAverage accuracy over 4 folds is 0.71\n",
      "Testing 0.4 min impurity decrease\n",
      "\tAverage accuracy over 4 folds is 0.32\n",
      "Best min impurity 0.1\n",
      "\n",
      "Outer accuracy 100.0 %\n",
      "\n",
      "Execution #4\n",
      "Testing 0.1 min impurity decrease\n",
      "\tAverage accuracy over 4 folds is 0.86\n",
      "Testing 0.25 min impurity decrease\n",
      "\tAverage accuracy over 4 folds is 0.67\n",
      "Testing 0.3 min impurity decrease\n",
      "\tAverage accuracy over 4 folds is 0.63\n",
      "Testing 0.4 min impurity decrease\n",
      "\tAverage accuracy over 4 folds is 0.27\n",
      "Best min impurity 0.1\n",
      "\n",
      "Outer accuracy 96.88 %\n",
      "\n",
      "Execution #5\n",
      "Testing 0.1 min impurity decrease\n",
      "\tAverage accuracy over 4 folds is 0.96\n",
      "Testing 0.25 min impurity decrease\n",
      "\tAverage accuracy over 4 folds is 0.96\n",
      "Testing 0.3 min impurity decrease\n",
      "\tAverage accuracy over 4 folds is 0.88\n",
      "Testing 0.4 min impurity decrease\n",
      "\tAverage accuracy over 4 folds is 0.36\n",
      "Best min impurity 0.1\n",
      "\n",
      "Outer accuracy 88.46 %\n",
      "\n"
     ]
    }
   ],
   "source": [
    "possible_min_impurity_decrease = np.array([0.1,0.25,0.3,0.4])\n",
    "\n",
    "# Outer loop\n",
    "outer_acc = np.array([])\n",
    "for k in dict_k_df_X.keys():\n",
    "    print(\"Execution #\" + str(k))\n",
    "    test_df_X = dict_k_df_X[k]\n",
    "    test_s_y = dict_k_s_y[k]\n",
    "    first_found = False\n",
    "\n",
    "    for j in dict_k_df_X.keys():\n",
    "        if (k != j):\n",
    "            if (first_found == False):\n",
    "                outerFold_df_X = dict_k_df_X[j]\n",
    "                outerFold_s_y = dict_k_s_y[j]\n",
    "                first_found = True\n",
    "            else:\n",
    "                outerFold_df_X = np.append(outerFold_df_X, dict_k_df_X[j], axis=0)\n",
    "                outerFold_s_y = np.append(outerFold_s_y, dict_k_s_y[j], axis=0)\n",
    "    \n",
    "    (dict_Inner_df_X, dict_Inner_s_y) = partition_data(outerFold_df_X, outerFold_s_y, 4)\n",
    "    this_acc = np.array([])\n",
    "    for pos_min_impurity in possible_min_impurity_decrease:\n",
    "        inner_acc = np.array([]);\n",
    "        for m in dict_Inner_df_X.keys():\n",
    "            inner_test_df_X = dict_Inner_df_X[m]\n",
    "            inner_test_s_y = dict_Inner_s_y[m]\n",
    "            first_found = False\n",
    "            for n in dict_Inner_df_X.keys():\n",
    "                if (m!=n):\n",
    "                    if (first_found== False):\n",
    "                        innerFold_df_X = dict_Inner_df_X[n]\n",
    "                        innerFold_s_y = dict_Inner_s_y[n]\n",
    "                    else:\n",
    "                        innerFold_df_X = np.append(innerFold_df_X, dict_Inner_df_X[n], axis=0)\n",
    "                        innerFold_s_y = np.append(innerFold_s_y, dict_Inner_s_y[n], axis=0)\n",
    "            \n",
    "            clf = tree.DecisionTreeClassifier(min_impurity_decrease=pos_min_impurity, criterion=\"gini\")\n",
    "            clf = clf.fit(innerFold_df_X, innerFold_s_y)\n",
    "            innerPrediction = clf.predict(inner_test_df_X)\n",
    "            inner_acc = np.append(inner_acc, get_acc(innerPrediction, inner_test_s_y))\n",
    "            #print(tree.export_text(clf))\n",
    "        print(\"Testing \" + str(pos_min_impurity) + \" min impurity decrease\")\n",
    "        print(\"\\tAverage accuracy over 4 folds is \" + str(np.round(inner_acc.mean(), 2)))\n",
    "        this_acc = np.append(this_acc, inner_acc.mean())\n",
    "        \n",
    "        \n",
    "    # Inner loop cross validation code here (use 4 folds, where the fold does not include k)\n",
    "    print(\"Best min impurity \" + str(possible_min_impurity_decrease[np.argmax(this_acc)]))\n",
    "    print(\"\")      \n",
    "    # Use best min impurity decrease to train model\n",
    "    clf = tree.DecisionTreeClassifier(min_impurity_decrease=possible_min_impurity_decrease[np.argmax(this_acc)], criterion=\"gini\")\n",
    "    clf = clf.fit(outerFold_df_X, outerFold_s_y)\n",
    "    outerPrediction = clf.predict(test_df_X)\n",
    "    \n",
    "    acc = get_acc(outerPrediction,test_s_y)\n",
    "    # outer accuracy calculation \n",
    "    outer_acc = np.append(outer_acc, acc) # make sure and calculate this_acc in your loop\n",
    "    print(\"Outer accuracy \" + str(np.round(acc * 100, 2)) + \" %\\n\")"
   ]
  },
  {
   "cell_type": "markdown",
   "metadata": {},
   "source": [
    "## Q2.5 Show the generalized performance of the classifier \n",
    "Show the generalized performance of the classifier by printing the min, max, and mean accuracy of the outer fold test sets."
   ]
  },
  {
   "cell_type": "code",
   "execution_count": 19,
   "metadata": {},
   "outputs": [
    {
     "name": "stdout",
     "output_type": "stream",
     "text": [
      "The min MAE is 0.88, the max MAE is 1.00, and the mean MAE is 0.95\n"
     ]
    }
   ],
   "source": [
    "print(\"The min MAE is {:.2f}, the max MAE is {:.2f}, and the mean MAE is {:.2f}\".format(outer_acc.min(),outer_acc.max(),outer_acc.mean()))"
   ]
  },
  {
   "cell_type": "code",
   "execution_count": null,
   "metadata": {},
   "outputs": [],
   "source": []
  }
 ],
 "metadata": {
  "kernelspec": {
   "display_name": "Python 3",
   "language": "python",
   "name": "python3"
  },
  "language_info": {
   "codemirror_mode": {
    "name": "ipython",
    "version": 3
   },
   "file_extension": ".py",
   "mimetype": "text/x-python",
   "name": "python",
   "nbconvert_exporter": "python",
   "pygments_lexer": "ipython3",
   "version": "3.8.8"
  }
 },
 "nbformat": 4,
 "nbformat_minor": 4
}
